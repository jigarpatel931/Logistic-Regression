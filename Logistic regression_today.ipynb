{
 "cells": [
  {
   "cell_type": "code",
   "execution_count": 1,
   "metadata": {},
   "outputs": [
    {
     "name": "stdout",
     "output_type": "stream",
     "text": [
      "Index(['meanfreq', 'sd', 'median', 'Q25', 'Q75', 'IQR', 'skew', 'kurt',\n",
      "       'sp.ent', 'sfm', 'mode', 'centroid', 'meanfun', 'minfun', 'maxfun',\n",
      "       'meandom', 'mindom', 'maxdom', 'dfrange', 'modindx', 'label'],\n",
      "      dtype='object')\n"
     ]
    },
    {
     "data": {
      "text/plain": [
       "(3168, 21)"
      ]
     },
     "execution_count": 1,
     "metadata": {},
     "output_type": "execute_result"
    }
   ],
   "source": [
    "import numpy as np\n",
    "import pandas as pd\n",
    "import matplotlib.pyplot as plt\n",
    "import seaborn as sns\n",
    "import statsmodels.api as sm\n",
    "from sklearn import metrics\n",
    "\n",
    "dataset=pd.read_csv(\"D:\\\\1_Lecture Material\\\\Term_2\\\\Pedram Habibi_Business_Processing\\\\voice(1).csv\")\n",
    "dataset['label'] = dataset['label'].map({'male': 1, 'female': 0})\n",
    "print(dataset.columns)\n",
    "len(dataset.columns)\n",
    "dataset.shape"
   ]
  },
  {
   "cell_type": "code",
   "execution_count": 6,
   "metadata": {},
   "outputs": [
    {
     "name": "stdout",
     "output_type": "stream",
     "text": [
      "        sp.ent       sfm   meanfun    minfun     maxdom    dfrange\n",
      "2311  0.857409  0.211434  0.174002  0.047856   9.937500   9.914062\n",
      "349   0.921978  0.510190  0.101953  0.051546   3.940430   3.842773\n",
      "989   0.874688  0.286869  0.131446  0.047291   6.890625   6.867188\n",
      "2100  0.846709  0.237891  0.170972  0.015779   4.828125   4.773438\n",
      "1118  0.898586  0.342237  0.134925  0.047714   3.281250   3.257812\n",
      "1865  0.950413  0.681699  0.212683  0.054054   3.585938   3.570312\n",
      "704   0.905954  0.439216  0.100917  0.017036   0.766602   0.668945\n",
      "820   0.931160  0.435852  0.129624  0.046967   6.843750   6.820312\n",
      "2855  0.808489  0.135079  0.197221  0.051502  11.039062  10.804688\n",
      "44    0.926522  0.567621  0.101719  0.016000   0.625000   0.617188\n",
      "615   0.965917  0.729219  0.103969  0.029144   5.421875   5.390625\n",
      "2278  0.859834  0.219356  0.173614  0.048436   8.625000   8.601562\n",
      "1424  0.930385  0.451028  0.134565  0.048193   5.601562   5.578125\n",
      "1338  0.948078  0.620633  0.113783  0.047059   4.218750   4.195312\n",
      "2052  0.847046  0.219954  0.160646  0.015905   6.593750   6.523438\n",
      "493   0.957993  0.698753  0.131859  0.019093   4.593750   4.585938\n",
      "1236  0.924484  0.463187  0.131363  0.047105   4.289062   4.265625\n",
      "682   0.885868  0.401103  0.097339  0.023641   0.800781   0.703125\n",
      "113   0.921624  0.482640  0.111090  0.023256   5.593750   5.585938\n",
      "2112  0.850261  0.264340  0.182079  0.023495   6.718750   6.554688\n",
      "1423  0.920331  0.434536  0.133268  0.046967   4.195312   4.171875\n",
      "2979  0.912110  0.480629  0.139934  0.025510   3.930664   3.857422\n",
      "488   0.944391  0.634353  0.133457  0.022631   5.093750   5.085938\n",
      "1047  0.905140  0.341054  0.128239  0.047809   4.289062   4.265625\n",
      "2219  0.951194  0.617185  0.143075  0.047856  12.750000  12.726562\n",
      "2395  0.799617  0.138465  0.183255  0.047572   5.742188   5.531250\n",
      "502   0.909984  0.188335  0.129058  0.020228   0.648438   0.640625\n",
      "600   0.892121  0.336295  0.125937  0.018433   0.554688   0.546875\n",
      "398   0.935581  0.531704  0.101646  0.026578   5.078125   4.929688\n",
      "1377  0.894096  0.325975  0.137182  0.052231   3.984375   3.960938\n",
      "...        ...       ...       ...       ...        ...        ...\n",
      "1871  0.943451  0.642259  0.181829  0.020151   3.109375   3.101562\n",
      "2046  0.925588  0.549264  0.176680  0.016842   2.796875   2.789062\n",
      "755   0.945400  0.505929  0.096195  0.018141   3.757812   3.664062\n",
      "976   0.903567  0.362197  0.118564  0.048930   6.210938   6.187500\n",
      "2163  0.844031  0.291376  0.175215  0.019876   0.242188   0.171875\n",
      "1940  0.939583  0.559730  0.147771  0.015764   0.445312   0.437500\n",
      "2825  0.785997  0.143740  0.194933  0.047105   8.929688   8.695312\n",
      "2120  0.827799  0.170547  0.169109  0.016895   6.546875   6.382812\n",
      "2893  0.860193  0.242160  0.170176  0.047666   7.125000   7.101562\n",
      "537   0.833948  0.494854  0.074021  0.015779   0.007812   0.000000\n",
      "1701  0.914880  0.526974  0.155693  0.016736   0.742188   0.687500\n",
      "2897  0.879000  0.303220  0.174942  0.047952  11.203125  11.179688\n",
      "2222  0.880138  0.318599  0.147888  0.047013   7.757812   7.734375\n",
      "2135  0.824579  0.222110  0.177221  0.017897   6.570312   6.562500\n",
      "2599  0.787618  0.178074  0.168258  0.046967   8.507812   8.484375\n",
      "705   0.888853  0.396658  0.101820  0.090909   0.805664   0.703125\n",
      "2362  0.835542  0.166957  0.166136  0.049281  20.976562  20.882812\n",
      "2648  0.870005  0.213134  0.149295  0.047904   7.945312   7.757812\n",
      "3142  0.956977  0.718462  0.183565  0.016444   0.859375   0.851562\n",
      "2647  0.841146  0.196610  0.171274  0.047761   4.968750   4.945312\n",
      "1828  0.815920  0.221766  0.164132  0.064777   0.812500   0.648438\n",
      "1778  0.830392  0.233418  0.172804  0.034335   0.421875   0.257812\n",
      "277   0.930444  0.536715  0.108935  0.018223   3.632812   3.625000\n",
      "1033  0.924651  0.366638  0.119180  0.047337   7.078125   7.054688\n",
      "1731  0.917465  0.511028  0.193539  0.019900   3.156250   3.148438\n",
      "763   0.933683  0.511419  0.096537  0.018605   4.921875   4.828125\n",
      "835   0.918013  0.368086  0.117072  0.047856   5.343750   5.320312\n",
      "1653  0.973843  0.801313  0.179867  0.028520   3.875000   3.851562\n",
      "2607  0.802884  0.118872  0.186651  0.047666   9.726562   9.703125\n",
      "2732  0.845458  0.242713  0.172861  0.052632   9.281250   9.257812\n",
      "\n",
      "[2534 rows x 6 columns]\n"
     ]
    }
   ],
   "source": [
    "x = dataset.iloc[:,0:20]\n",
    "y = dataset.iloc[:,-1]\n",
    "from sklearn.model_selection import train_test_split\n",
    "\n",
    "x_train1, x_test1, y_train , y_test = train_test_split(x, y, test_size=0.2, random_state = 0)\n",
    "columns=(x_train.columns)\n",
    "print(x_train)\n",
    "cols2= ['meanfreq', 'sd', 'skew', 'kurt', 'meanfun', 'minfun', 'maxfun','meandom', 'mindom', 'maxdom', 'dfrange', 'modindx']\n",
    "#cols2= ['meanfreq','sd','skew','kurt', 'meanfun', 'minfun', 'maxfun','meandom','mindom','maxdom', 'dfrange','modindx']\n",
    "cols1=['sp.ent', 'sfm', 'meanfun', 'minfun', 'maxdom', 'dfrange']\n",
    "x_train=(x_train1[cols1])\n",
    "x_test=(x_test1[cols1])\n",
    "\n",
    "\n",
    "x_train_new=(x_train1[cols2])\n",
    "x_test_new=(x_test1[cols2])"
   ]
  },
  {
   "cell_type": "code",
   "execution_count": 7,
   "metadata": {},
   "outputs": [
    {
     "name": "stdout",
     "output_type": "stream",
     "text": [
      "0.9589905362776026\n"
     ]
    },
    {
     "name": "stderr",
     "output_type": "stream",
     "text": [
      "C:\\Users\\Jigar_PAtel\\Anaconda3\\lib\\site-packages\\sklearn\\linear_model\\logistic.py:432: FutureWarning: Default solver will be changed to 'lbfgs' in 0.22. Specify a solver to silence this warning.\n",
      "  FutureWarning)\n"
     ]
    },
    {
     "data": {
      "text/plain": [
       "Text(0.5, 15.0, 'Predicted label')"
      ]
     },
     "execution_count": 7,
     "metadata": {},
     "output_type": "execute_result"
    },
    {
     "data": {
      "image/png": "[encoded data removed]",
      "text/plain": [
       "<Figure size 432x288 with 2 Axes>"
      ]
     },
     "metadata": {
      "needs_background": "light"
     },
     "output_type": "display_data"
    }
   ],
   "source": [
    "from sklearn.preprocessing import StandardScaler\n",
    "sc = StandardScaler()\n",
    "\n",
    "x_train = sc.fit_transform(x_train)\n",
    "x_test = sc.fit_transform(x_test)\n",
    "\n",
    "from sklearn.linear_model import LogisticRegression\n",
    "classifier = LogisticRegression()\n",
    "\n",
    "classifier = LogisticRegression(random_state=0)\n",
    "\n",
    "classifier.fit(x_train, y_train)\n",
    "y_pred = classifier.predict(x_test)\n",
    "\n",
    "\n",
    "\n",
    "from sklearn.metrics import confusion_matrix\n",
    "cm = confusion_matrix(y_test, y_pred)\n",
    "print(metrics.accuracy_score(y_test, y_pred))\n",
    "sns.heatmap(pd.DataFrame(cm), annot=True, cmap=\"YlGnBu\" ,fmt='g')\n",
    "plt.title('Confusion matrix', y=1.1)\n",
    "plt.ylabel('Actual label')\n",
    "plt.xlabel('Predicted label')"
   ]
  },
  {
   "cell_type": "code",
   "execution_count": 8,
   "metadata": {},
   "outputs": [
    {
     "name": "stdout",
     "output_type": "stream",
     "text": [
      "          meanfreq    sd  median   Q25   Q75   IQR  skew  kurt  sp.ent   sfm  \\\n",
      "meanfreq      1.00 -0.74    0.93  0.91  0.74 -0.63 -0.32 -0.32   -0.60 -0.78   \n",
      "sd           -0.74  1.00   -0.56 -0.85 -0.16  0.87  0.31  0.35    0.72  0.84   \n",
      "median        0.93 -0.56    1.00  0.77  0.73 -0.48 -0.26 -0.24   -0.50 -0.66   \n",
      "Q25           0.91 -0.85    0.77  1.00  0.48 -0.87 -0.32 -0.35   -0.65 -0.77   \n",
      "Q75           0.74 -0.16    0.73  0.48  1.00  0.01 -0.21 -0.15   -0.17 -0.38   \n",
      "IQR          -0.63  0.87   -0.48 -0.87  0.01  1.00  0.25  0.32    0.64  0.66   \n",
      "skew         -0.32  0.31   -0.26 -0.32 -0.21  0.25  1.00  0.98   -0.20  0.08   \n",
      "kurt         -0.32  0.35   -0.24 -0.35 -0.15  0.32  0.98  1.00   -0.13  0.11   \n",
      "sp.ent       -0.60  0.72   -0.50 -0.65 -0.17  0.64 -0.20 -0.13    1.00  0.87   \n",
      "sfm          -0.78  0.84   -0.66 -0.77 -0.38  0.66  0.08  0.11    0.87  1.00   \n",
      "mode          0.69 -0.53    0.68  0.59  0.49 -0.40 -0.43 -0.41   -0.33 -0.49   \n",
      "centroid      1.00 -0.74    0.93  0.91  0.74 -0.63 -0.32 -0.32   -0.60 -0.78   \n",
      "meanfun       0.46 -0.47    0.41  0.55  0.16 -0.53 -0.17 -0.19   -0.51 -0.42   \n",
      "minfun        0.38 -0.35    0.34  0.32  0.26 -0.22 -0.22 -0.20   -0.31 -0.36   \n",
      "maxfun        0.27 -0.13    0.25  0.20  0.29 -0.07 -0.08 -0.05   -0.12 -0.19   \n",
      "meandom       0.54 -0.48    0.46  0.47  0.36 -0.33 -0.34 -0.30   -0.29 -0.43   \n",
      "mindom        0.23 -0.36    0.19  0.30 -0.02 -0.36 -0.06 -0.10   -0.29 -0.29   \n",
      "maxdom        0.52 -0.48    0.44  0.46  0.34 -0.34 -0.31 -0.27   -0.32 -0.44   \n",
      "dfrange       0.52 -0.48    0.44  0.45  0.34 -0.33 -0.30 -0.27   -0.32 -0.43   \n",
      "modindx      -0.22  0.12   -0.21 -0.14 -0.22  0.04 -0.17 -0.21    0.20  0.21   \n",
      "label        -0.34  0.48   -0.28 -0.51  0.07  0.62  0.04  0.09    0.49  0.36   \n",
      "\n",
      "          ...  centroid  meanfun  minfun  maxfun  meandom  mindom  maxdom  \\\n",
      "meanfreq  ...      1.00     0.46    0.38    0.27     0.54    0.23    0.52   \n",
      "sd        ...     -0.74    -0.47   -0.35   -0.13    -0.48   -0.36   -0.48   \n",
      "median    ...      0.93     0.41    0.34    0.25     0.46    0.19    0.44   \n",
      "Q25       ...      0.91     0.55    0.32    0.20     0.47    0.30    0.46   \n",
      "Q75       ...      0.74     0.16    0.26    0.29     0.36   -0.02    0.34   \n",
      "IQR       ...     -0.63    -0.53   -0.22   -0.07    -0.33   -0.36   -0.34   \n",
      "skew      ...     -0.32    -0.17   -0.22   -0.08    -0.34   -0.06   -0.31   \n",
      "kurt      ...     -0.32    -0.19   -0.20   -0.05    -0.30   -0.10   -0.27   \n",
      "sp.ent    ...     -0.60    -0.51   -0.31   -0.12    -0.29   -0.29   -0.32   \n",
      "sfm       ...     -0.78    -0.42   -0.36   -0.19    -0.43   -0.29   -0.44   \n",
      "mode      ...      0.69     0.32    0.39    0.17     0.49    0.20    0.48   \n",
      "centroid  ...      1.00     0.46    0.38    0.27     0.54    0.23    0.52   \n",
      "meanfun   ...      0.46     1.00    0.34    0.31     0.27    0.16    0.28   \n",
      "minfun    ...      0.38     0.34    1.00    0.21     0.38    0.08    0.32   \n",
      "maxfun    ...      0.27     0.31    0.21    1.00     0.34   -0.24    0.36   \n",
      "meandom   ...      0.54     0.27    0.38    0.34     1.00    0.10    0.81   \n",
      "mindom    ...      0.23     0.16    0.08   -0.24     0.10    1.00    0.03   \n",
      "maxdom    ...      0.52     0.28    0.32    0.36     0.81    0.03    1.00   \n",
      "dfrange   ...      0.52     0.28    0.32    0.36     0.81    0.01    1.00   \n",
      "modindx   ...     -0.22    -0.05    0.00   -0.36    -0.18    0.20   -0.43   \n",
      "label     ...     -0.34    -0.83   -0.14   -0.17    -0.19   -0.19   -0.20   \n",
      "\n",
      "          dfrange  modindx  label  \n",
      "meanfreq     0.52    -0.22  -0.34  \n",
      "sd          -0.48     0.12   0.48  \n",
      "median       0.44    -0.21  -0.28  \n",
      "Q25          0.45    -0.14  -0.51  \n",
      "Q75          0.34    -0.22   0.07  \n",
      "IQR         -0.33     0.04   0.62  \n",
      "skew        -0.30    -0.17   0.04  \n",
      "kurt        -0.27    -0.21   0.09  \n",
      "sp.ent      -0.32     0.20   0.49  \n",
      "sfm         -0.43     0.21   0.36  \n",
      "mode         0.47    -0.18  -0.17  \n",
      "centroid     0.52    -0.22  -0.34  \n",
      "meanfun      0.28    -0.05  -0.83  \n",
      "minfun       0.32     0.00  -0.14  \n",
      "maxfun       0.36    -0.36  -0.17  \n",
      "meandom      0.81    -0.18  -0.19  \n",
      "mindom       0.01     0.20  -0.19  \n",
      "maxdom       1.00    -0.43  -0.20  \n",
      "dfrange      1.00    -0.43  -0.19  \n",
      "modindx     -0.43     1.00   0.03  \n",
      "label       -0.19     0.03   1.00  \n",
      "\n",
      "[21 rows x 21 columns]\n"
     ]
    },
    {
     "data": {
      "image/png": "[encoded data removed]",
      "text/plain": [
       "<Figure size 1296x1008 with 2 Axes>"
      ]
     },
     "metadata": {
      "needs_background": "light"
     },
     "output_type": "display_data"
    }
   ],
   "source": [
    "corr = dataset.corr()\n",
    "plt.figure(figsize=(18,14))\n",
    "\n",
    "print(round(corr,2))\n",
    "\n",
    "sns.heatmap(corr, cbar = True, square = True, cmap='coolwarm')\n",
    "plt.show()"
   ]
  },
  {
   "cell_type": "code",
   "execution_count": 122,
   "metadata": {},
   "outputs": [
    {
     "name": "stdout",
     "output_type": "stream",
     "text": [
      "Warning: Maximum number of iterations has been exceeded.\n",
      "         Current function value: 0.132489\n",
      "         Iterations: 35\n",
      "         Function evaluations: 36\n",
      "         Gradient evaluations: 36\n",
      "                        Results: Logit\n",
      "===============================================================\n",
      "Model:              Logit            Pseudo R-squared: 0.809   \n",
      "Dependent Variable: label            AIC:              695.9328\n",
      "Date:               2019-09-25 16:46 BIC:              742.7336\n",
      "No. Observations:   2566             Log-Likelihood:   -339.97 \n",
      "Df Model:           7                LL-Null:          -1778.6 \n",
      "Df Residuals:       2558             LLR p-value:      0.0000  \n",
      "Converged:          0.0000           Scale:            1.0000  \n",
      "----------------------------------------------------------------\n",
      "           Coef.   Std.Err.     z      P>|z|    [0.025    0.975]\n",
      "----------------------------------------------------------------\n",
      "meanfreq  -0.0876    0.1589   -0.5514  0.5813   -0.3990   0.2238\n",
      "kurt      -0.3669    0.1603   -2.2890  0.0221   -0.6811  -0.0527\n",
      "meanfun   -6.1543    0.2945  -20.8948  0.0000   -6.7316  -5.5770\n",
      "minfun     0.9847    0.1331    7.3963  0.0000    0.7238   1.2456\n",
      "maxfun     0.3106    0.1554    1.9981  0.0457    0.0059   0.6152\n",
      "meandom   -0.3873    0.1599   -2.4222  0.0154   -0.7007  -0.0739\n",
      "maxdom    -0.0187    6.3678   -0.0029  0.9977  -12.4993  12.4619\n",
      "dfrange    0.0533    6.3416    0.0084  0.9933  -12.3760  12.4826\n",
      "===============================================================\n",
      "\n"
     ]
    },
    {
     "name": "stderr",
     "output_type": "stream",
     "text": [
      "C:\\Users\\Jigar_PAtel\\Anaconda3\\lib\\site-packages\\statsmodels\\base\\model.py:508: ConvergenceWarning: Maximum Likelihood optimization failed to converge. Check mle_retvals\n",
      "  \"Check mle_retvals\", ConvergenceWarning)\n"
     ]
    }
   ],
   "source": [
    "logit_model2=sm.Logit(y2.astype(int),x2.astype(float))\n",
    "#result2=logit_model2.fit()\n",
    "r=logit_model2.fit(method='bfgs')\n",
    "print(r.summary2())"
   ]
  },
  {
   "cell_type": "code",
   "execution_count": 11,
   "metadata": {},
   "outputs": [],
   "source": [
    "#logit_model1=sm.Logit(y1.astype(int),x1.astype(float))\n",
    "#result1=logit_model1.fit()\n",
    "#print(result1.summary2())"
   ]
  },
  {
   "cell_type": "code",
   "execution_count": 10,
   "metadata": {},
   "outputs": [
    {
     "name": "stdout",
     "output_type": "stream",
     "text": [
      "0.9605678233438486\n"
     ]
    },
    {
     "name": "stderr",
     "output_type": "stream",
     "text": [
      "C:\\Users\\Jigar_PAtel\\Anaconda3\\lib\\site-packages\\sklearn\\linear_model\\logistic.py:432: FutureWarning: Default solver will be changed to 'lbfgs' in 0.22. Specify a solver to silence this warning.\n",
      "  FutureWarning)\n"
     ]
    },
    {
     "data": {
      "text/plain": [
       "Text(0.5, 15.0, 'Predicted label')"
      ]
     },
     "execution_count": 10,
     "metadata": {},
     "output_type": "execute_result"
    },
    {
     "data": {
      "image/png": "[encoded data removed]",
      "text/plain": [
       "<Figure size 432x288 with 2 Axes>"
      ]
     },
     "metadata": {
      "needs_background": "light"
     },
     "output_type": "display_data"
    }
   ],
   "source": [
    "from sklearn.preprocessing import StandardScaler\n",
    "sc = StandardScaler()\n",
    "\n",
    "x_train_new = sc.fit_transform(x_train_new)\n",
    "x_test_new = sc.fit_transform(x_test_new)\n",
    "\n",
    "from sklearn.linear_model import LogisticRegression\n",
    "classifier = LogisticRegression()\n",
    "\n",
    "classifier = LogisticRegression(random_state=0)\n",
    "\n",
    "classifier.fit(x_train_new, y_train)\n",
    "y_pred_new = classifier.predict(x_test_new)\n",
    "\n",
    "\n",
    "\n",
    "from sklearn.metrics import confusion_matrix\n",
    "cm_new = confusion_matrix(y_test, y_pred_new)\n",
    "print(metrics.accuracy_score(y_test, y_pred_new))\n",
    "sns.heatmap(pd.DataFrame(cm_new), annot=True, cmap=\"YlGnBu\" ,fmt='g')\n",
    "plt.title('Confusion matrix_new', y=1.1)\n",
    "plt.ylabel('Actual label')\n",
    "plt.xlabel('Predicted label')"
   ]
  },
  {
   "cell_type": "code",
   "execution_count": null,
   "metadata": {},
   "outputs": [],
   "source": []
  }
 ],
 "metadata": {
  "kernelspec": {
   "display_name": "Python 3",
   "language": "python",
   "name": "python3"
  },
  "language_info": {
   "codemirror_mode": {
    "name": "ipython",
    "version": 3
   },
   "file_extension": ".py",
   "mimetype": "text/x-python",
   "name": "python",
   "nbconvert_exporter": "python",
   "pygments_lexer": "ipython3",
   "version": "3.7.1"
  }
 },
 "nbformat": 4,
 "nbformat_minor": 2
}
